{
  "nbformat": 4,
  "nbformat_minor": 0,
  "metadata": {
    "colab": {
      "name": "TextClassificationMovieReview.ipynb",
      "version": "0.3.2",
      "provenance": [],
      "collapsed_sections": [],
      "include_colab_link": true
    },
    "kernelspec": {
      "name": "python3",
      "display_name": "Python 3"
    }
  },
  "cells": [
    {
      "cell_type": "markdown",
      "metadata": {
        "id": "view-in-github",
        "colab_type": "text"
      },
      "source": [
        "<a href=\"https://colab.research.google.com/github/kalwargupta/TensorFlow/blob/master/TextClassificationMovieReview.ipynb\" target=\"_parent\"><img src=\"https://colab.research.google.com/assets/colab-badge.svg\" alt=\"Open In Colab\"/></a>"
      ]
    },
    {
      "metadata": {
        "id": "xGyM77N1pZU4",
        "colab_type": "code",
        "colab": {
          "base_uri": "https://localhost:8080/",
          "height": 34
        },
        "outputId": "deee099b-4034-49f1-f16b-fc462ae15122"
      },
      "cell_type": "code",
      "source": [
        "from __future__ import absolute_import, division, print_function\n",
        "\n",
        "import tensorflow as tf\n",
        "from tensorflow import keras\n",
        "\n",
        "import numpy as np\n",
        "\n",
        "print(tf.__version__)"
      ],
      "execution_count": 32,
      "outputs": [
        {
          "output_type": "stream",
          "text": [
            "1.13.0-rc1\n"
          ],
          "name": "stdout"
        }
      ]
    },
    {
      "metadata": {
        "id": "8_zwX-gVpfxz",
        "colab_type": "code",
        "colab": {}
      },
      "cell_type": "code",
      "source": [
        "imdb = keras.datasets.imdb\n",
        "\n",
        "(train_data, train_labels), (test_data, test_labels) = imdb.load_data(num_words=10000)"
      ],
      "execution_count": 0,
      "outputs": []
    },
    {
      "metadata": {
        "id": "lcyu78kKppGa",
        "colab_type": "code",
        "colab": {
          "base_uri": "https://localhost:8080/",
          "height": 34
        },
        "outputId": "806a375a-4393-46e7-e79d-0ed48c95ea17"
      },
      "cell_type": "code",
      "source": [
        "print(\"Training entries: {}, labels: {}\".format(len(train_data), len(train_labels)))"
      ],
      "execution_count": 34,
      "outputs": [
        {
          "output_type": "stream",
          "text": [
            "Training entries: 25000, labels: 25000\n"
          ],
          "name": "stdout"
        }
      ]
    },
    {
      "metadata": {
        "id": "2cgTooOBpun5",
        "colab_type": "code",
        "colab": {
          "base_uri": "https://localhost:8080/",
          "height": 54
        },
        "outputId": "0ddb016b-4067-4cfc-f4fb-193446f57b3b"
      },
      "cell_type": "code",
      "source": [
        "print(train_data[0])"
      ],
      "execution_count": 35,
      "outputs": [
        {
          "output_type": "stream",
          "text": [
            "[1, 14, 22, 16, 43, 530, 973, 1622, 1385, 65, 458, 4468, 66, 3941, 4, 173, 36, 256, 5, 25, 100, 43, 838, 112, 50, 670, 2, 9, 35, 480, 284, 5, 150, 4, 172, 112, 167, 2, 336, 385, 39, 4, 172, 4536, 1111, 17, 546, 38, 13, 447, 4, 192, 50, 16, 6, 147, 2025, 19, 14, 22, 4, 1920, 4613, 469, 4, 22, 71, 87, 12, 16, 43, 530, 38, 76, 15, 13, 1247, 4, 22, 17, 515, 17, 12, 16, 626, 18, 2, 5, 62, 386, 12, 8, 316, 8, 106, 5, 4, 2223, 5244, 16, 480, 66, 3785, 33, 4, 130, 12, 16, 38, 619, 5, 25, 124, 51, 36, 135, 48, 25, 1415, 33, 6, 22, 12, 215, 28, 77, 52, 5, 14, 407, 16, 82, 2, 8, 4, 107, 117, 5952, 15, 256, 4, 2, 7, 3766, 5, 723, 36, 71, 43, 530, 476, 26, 400, 317, 46, 7, 4, 2, 1029, 13, 104, 88, 4, 381, 15, 297, 98, 32, 2071, 56, 26, 141, 6, 194, 7486, 18, 4, 226, 22, 21, 134, 476, 26, 480, 5, 144, 30, 5535, 18, 51, 36, 28, 224, 92, 25, 104, 4, 226, 65, 16, 38, 1334, 88, 12, 16, 283, 5, 16, 4472, 113, 103, 32, 15, 16, 5345, 19, 178, 32]\n"
          ],
          "name": "stdout"
        }
      ]
    },
    {
      "metadata": {
        "id": "7VSAM2s7pxXw",
        "colab_type": "code",
        "colab": {
          "base_uri": "https://localhost:8080/",
          "height": 34
        },
        "outputId": "29600500-324b-497d-82b0-8b49b79f6d39"
      },
      "cell_type": "code",
      "source": [
        "len(train_data[0]), len(train_data[1])"
      ],
      "execution_count": 36,
      "outputs": [
        {
          "output_type": "execute_result",
          "data": {
            "text/plain": [
              "(218, 189)"
            ]
          },
          "metadata": {
            "tags": []
          },
          "execution_count": 36
        }
      ]
    },
    {
      "metadata": {
        "id": "odtokqVbp1OG",
        "colab_type": "code",
        "colab": {}
      },
      "cell_type": "code",
      "source": [
        "# A dictionary mapping words to an integer index\n",
        "word_index = imdb.get_word_index()\n",
        "\n",
        "# The first indices are reserved\n",
        "word_index = {k:(v+3) for k,v in word_index.items()} \n",
        "word_index[\"<PAD>\"] = 0\n",
        "word_index[\"<START>\"] = 1\n",
        "word_index[\"<UNK>\"] = 2  # unknown\n",
        "word_index[\"<UNUSED>\"] = 3\n",
        "\n",
        "reverse_word_index = dict([(value, key) for (key, value) in word_index.items()])\n",
        "\n",
        "def decode_review(text):\n",
        "    return ' '.join([reverse_word_index.get(i, '?') for i in text])"
      ],
      "execution_count": 0,
      "outputs": []
    },
    {
      "metadata": {
        "id": "RjAfon0vp_UO",
        "colab_type": "code",
        "colab": {
          "base_uri": "https://localhost:8080/",
          "height": 54
        },
        "outputId": "b3149441-ef60-483b-955e-f4728f83da3f"
      },
      "cell_type": "code",
      "source": [
        "decode_review(train_data[0])"
      ],
      "execution_count": 38,
      "outputs": [
        {
          "output_type": "execute_result",
          "data": {
            "text/plain": [
              "\"<START> this film was just brilliant casting location scenery story direction everyone's really suited the part they played and you could just imagine being there robert <UNK> is an amazing actor and now the same being director <UNK> father came from the same scottish island as myself so i loved the fact there was a real connection with this film the witty remarks throughout the film were great it was just brilliant so much that i bought the film as soon as it was released for <UNK> and would recommend it to everyone to watch and the fly fishing was amazing really cried at the end it was so sad and you know what they say if you cry at a film it must have been good and this definitely was also <UNK> to the two little boy's that played the <UNK> of norman and paul they were just brilliant children are often left out of the <UNK> list i think because the stars that play them all grown up are such a big profile for the whole film but these children are amazing and should be praised for what they have done don't you think the whole story was so lovely because it was true and was someone's life after all that was shared with us all\""
            ]
          },
          "metadata": {
            "tags": []
          },
          "execution_count": 38
        }
      ]
    },
    {
      "metadata": {
        "id": "0Q06Tuj8qDZ-",
        "colab_type": "code",
        "colab": {}
      },
      "cell_type": "code",
      "source": [
        "train_data = keras.preprocessing.sequence.pad_sequences(train_data,\n",
        "                                                        value=word_index[\"<PAD>\"],\n",
        "                                                        padding='post',\n",
        "                                                        maxlen=256)\n",
        "\n",
        "test_data = keras.preprocessing.sequence.pad_sequences(test_data,\n",
        "                                                       value=word_index[\"<PAD>\"],\n",
        "                                                       padding='post',\n",
        "                                                       maxlen=256)"
      ],
      "execution_count": 0,
      "outputs": []
    },
    {
      "metadata": {
        "id": "32I3J_u0qGg1",
        "colab_type": "code",
        "colab": {
          "base_uri": "https://localhost:8080/",
          "height": 34
        },
        "outputId": "3e147d81-7102-4671-a188-3ecd18b4fe06"
      },
      "cell_type": "code",
      "source": [
        "len(train_data[0]), len(train_data[1])"
      ],
      "execution_count": 40,
      "outputs": [
        {
          "output_type": "execute_result",
          "data": {
            "text/plain": [
              "(256, 256)"
            ]
          },
          "metadata": {
            "tags": []
          },
          "execution_count": 40
        }
      ]
    },
    {
      "metadata": {
        "id": "mamTwRg2qLqR",
        "colab_type": "code",
        "colab": {
          "base_uri": "https://localhost:8080/",
          "height": 340
        },
        "outputId": "6047fb8c-3cfb-4e5b-e461-ab5345bcf081"
      },
      "cell_type": "code",
      "source": [
        "print(train_data[0])"
      ],
      "execution_count": 41,
      "outputs": [
        {
          "output_type": "stream",
          "text": [
            "[   1   14   22   16   43  530  973 1622 1385   65  458 4468   66 3941\n",
            "    4  173   36  256    5   25  100   43  838  112   50  670    2    9\n",
            "   35  480  284    5  150    4  172  112  167    2  336  385   39    4\n",
            "  172 4536 1111   17  546   38   13  447    4  192   50   16    6  147\n",
            " 2025   19   14   22    4 1920 4613  469    4   22   71   87   12   16\n",
            "   43  530   38   76   15   13 1247    4   22   17  515   17   12   16\n",
            "  626   18    2    5   62  386   12    8  316    8  106    5    4 2223\n",
            " 5244   16  480   66 3785   33    4  130   12   16   38  619    5   25\n",
            "  124   51   36  135   48   25 1415   33    6   22   12  215   28   77\n",
            "   52    5   14  407   16   82    2    8    4  107  117 5952   15  256\n",
            "    4    2    7 3766    5  723   36   71   43  530  476   26  400  317\n",
            "   46    7    4    2 1029   13  104   88    4  381   15  297   98   32\n",
            " 2071   56   26  141    6  194 7486   18    4  226   22   21  134  476\n",
            "   26  480    5  144   30 5535   18   51   36   28  224   92   25  104\n",
            "    4  226   65   16   38 1334   88   12   16  283    5   16 4472  113\n",
            "  103   32   15   16 5345   19  178   32    0    0    0    0    0    0\n",
            "    0    0    0    0    0    0    0    0    0    0    0    0    0    0\n",
            "    0    0    0    0    0    0    0    0    0    0    0    0    0    0\n",
            "    0    0    0    0]\n"
          ],
          "name": "stdout"
        }
      ]
    },
    {
      "metadata": {
        "id": "kToV5BnvqOrf",
        "colab_type": "code",
        "colab": {
          "base_uri": "https://localhost:8080/",
          "height": 272
        },
        "outputId": "7068fe53-4cef-405c-af2b-f1804dcac4e3"
      },
      "cell_type": "code",
      "source": [
        "# input shape is the vocabulary count used for the movie reviews (10,000 words)\n",
        "vocab_size = 10000\n",
        "\n",
        "model = keras.Sequential()\n",
        "model.add(keras.layers.Embedding(vocab_size, 16))\n",
        "model.add(keras.layers.GlobalAveragePooling1D())\n",
        "model.add(keras.layers.Dense(16, activation=tf.nn.relu))\n",
        "model.add(keras.layers.Dense(1, activation=tf.nn.sigmoid))\n",
        "\n",
        "model.summary()"
      ],
      "execution_count": 42,
      "outputs": [
        {
          "output_type": "stream",
          "text": [
            "_________________________________________________________________\n",
            "Layer (type)                 Output Shape              Param #   \n",
            "=================================================================\n",
            "embedding_2 (Embedding)      (None, None, 16)          160000    \n",
            "_________________________________________________________________\n",
            "global_average_pooling1d_2 ( (None, 16)                0         \n",
            "_________________________________________________________________\n",
            "dense_4 (Dense)              (None, 16)                272       \n",
            "_________________________________________________________________\n",
            "dense_5 (Dense)              (None, 1)                 17        \n",
            "=================================================================\n",
            "Total params: 160,289\n",
            "Trainable params: 160,289\n",
            "Non-trainable params: 0\n",
            "_________________________________________________________________\n"
          ],
          "name": "stdout"
        }
      ]
    },
    {
      "metadata": {
        "id": "PclK-jKJqS2G",
        "colab_type": "code",
        "colab": {}
      },
      "cell_type": "code",
      "source": [
        "model.compile(optimizer='adam',\n",
        "              loss='binary_crossentropy',\n",
        "              metrics=['accuracy'])"
      ],
      "execution_count": 0,
      "outputs": []
    },
    {
      "metadata": {
        "id": "MTfCIHB9qa-6",
        "colab_type": "code",
        "colab": {}
      },
      "cell_type": "code",
      "source": [
        "x_val = train_data[:10000]\n",
        "partial_x_train = train_data[10000:]\n",
        "\n",
        "y_val = train_labels[:10000]\n",
        "partial_y_train = train_labels[10000:]"
      ],
      "execution_count": 0,
      "outputs": []
    },
    {
      "metadata": {
        "id": "5O4pTuq8qkAd",
        "colab_type": "code",
        "colab": {
          "base_uri": "https://localhost:8080/",
          "height": 1394
        },
        "outputId": "75e73140-afbd-4ef8-fbd3-87e838bddf7f"
      },
      "cell_type": "code",
      "source": [
        "history = model.fit(partial_x_train,\n",
        "                    partial_y_train,\n",
        "                    epochs=40,\n",
        "                    batch_size=512,\n",
        "                    validation_data=(x_val, y_val),\n",
        "                    verbose=1)"
      ],
      "execution_count": 45,
      "outputs": [
        {
          "output_type": "stream",
          "text": [
            "Train on 15000 samples, validate on 10000 samples\n",
            "Epoch 1/40\n",
            "15000/15000 [==============================] - 1s 88us/sample - loss: 0.6923 - acc: 0.5660 - val_loss: 0.6910 - val_acc: 0.6546\n",
            "Epoch 2/40\n",
            "15000/15000 [==============================] - 1s 52us/sample - loss: 0.6885 - acc: 0.7133 - val_loss: 0.6853 - val_acc: 0.7364\n",
            "Epoch 3/40\n",
            "15000/15000 [==============================] - 1s 50us/sample - loss: 0.6790 - acc: 0.7432 - val_loss: 0.6726 - val_acc: 0.7309\n",
            "Epoch 4/40\n",
            "15000/15000 [==============================] - 1s 51us/sample - loss: 0.6607 - acc: 0.7545 - val_loss: 0.6506 - val_acc: 0.7292\n",
            "Epoch 5/40\n",
            "15000/15000 [==============================] - 1s 49us/sample - loss: 0.6316 - acc: 0.7781 - val_loss: 0.6191 - val_acc: 0.7632\n",
            "Epoch 6/40\n",
            "15000/15000 [==============================] - 1s 49us/sample - loss: 0.5927 - acc: 0.8011 - val_loss: 0.5803 - val_acc: 0.7987\n",
            "Epoch 7/40\n",
            "15000/15000 [==============================] - 1s 49us/sample - loss: 0.5471 - acc: 0.8209 - val_loss: 0.5367 - val_acc: 0.8126\n",
            "Epoch 8/40\n",
            "15000/15000 [==============================] - 1s 48us/sample - loss: 0.4997 - acc: 0.8409 - val_loss: 0.4949 - val_acc: 0.8262\n",
            "Epoch 9/40\n",
            "15000/15000 [==============================] - 1s 48us/sample - loss: 0.4544 - acc: 0.8558 - val_loss: 0.4564 - val_acc: 0.8391\n",
            "Epoch 10/40\n",
            "15000/15000 [==============================] - 1s 49us/sample - loss: 0.4136 - acc: 0.8692 - val_loss: 0.4238 - val_acc: 0.8478\n",
            "Epoch 11/40\n",
            "15000/15000 [==============================] - 1s 49us/sample - loss: 0.3787 - acc: 0.8787 - val_loss: 0.3965 - val_acc: 0.8566\n",
            "Epoch 12/40\n",
            "15000/15000 [==============================] - 1s 48us/sample - loss: 0.3490 - acc: 0.8861 - val_loss: 0.3752 - val_acc: 0.8590\n",
            "Epoch 13/40\n",
            "15000/15000 [==============================] - 1s 47us/sample - loss: 0.3249 - acc: 0.8918 - val_loss: 0.3566 - val_acc: 0.8655\n",
            "Epoch 14/40\n",
            "15000/15000 [==============================] - 1s 48us/sample - loss: 0.3032 - acc: 0.8981 - val_loss: 0.3429 - val_acc: 0.8694\n",
            "Epoch 15/40\n",
            "15000/15000 [==============================] - 1s 48us/sample - loss: 0.2853 - acc: 0.9016 - val_loss: 0.3318 - val_acc: 0.8721\n",
            "Epoch 16/40\n",
            "15000/15000 [==============================] - 1s 48us/sample - loss: 0.2692 - acc: 0.9079 - val_loss: 0.3224 - val_acc: 0.8741\n",
            "Epoch 17/40\n",
            "15000/15000 [==============================] - 1s 47us/sample - loss: 0.2545 - acc: 0.9125 - val_loss: 0.3145 - val_acc: 0.8758\n",
            "Epoch 18/40\n",
            "15000/15000 [==============================] - 1s 48us/sample - loss: 0.2416 - acc: 0.9176 - val_loss: 0.3077 - val_acc: 0.8793\n",
            "Epoch 19/40\n",
            "15000/15000 [==============================] - 1s 48us/sample - loss: 0.2300 - acc: 0.9200 - val_loss: 0.3020 - val_acc: 0.8803\n",
            "Epoch 20/40\n",
            "15000/15000 [==============================] - 1s 48us/sample - loss: 0.2195 - acc: 0.9235 - val_loss: 0.2981 - val_acc: 0.8798\n",
            "Epoch 21/40\n",
            "15000/15000 [==============================] - 1s 48us/sample - loss: 0.2090 - acc: 0.9295 - val_loss: 0.2945 - val_acc: 0.8814\n",
            "Epoch 22/40\n",
            "15000/15000 [==============================] - 1s 49us/sample - loss: 0.2002 - acc: 0.9319 - val_loss: 0.2918 - val_acc: 0.8825\n",
            "Epoch 23/40\n",
            "15000/15000 [==============================] - 1s 48us/sample - loss: 0.1912 - acc: 0.9356 - val_loss: 0.2902 - val_acc: 0.8823\n",
            "Epoch 24/40\n",
            "15000/15000 [==============================] - 1s 48us/sample - loss: 0.1835 - acc: 0.9390 - val_loss: 0.2877 - val_acc: 0.8830\n",
            "Epoch 25/40\n",
            "15000/15000 [==============================] - 1s 48us/sample - loss: 0.1757 - acc: 0.9429 - val_loss: 0.2862 - val_acc: 0.8843\n",
            "Epoch 26/40\n",
            "15000/15000 [==============================] - 1s 48us/sample - loss: 0.1686 - acc: 0.9457 - val_loss: 0.2862 - val_acc: 0.8840\n",
            "Epoch 27/40\n",
            "15000/15000 [==============================] - 1s 48us/sample - loss: 0.1620 - acc: 0.9488 - val_loss: 0.2855 - val_acc: 0.8845\n",
            "Epoch 28/40\n",
            "15000/15000 [==============================] - 1s 47us/sample - loss: 0.1556 - acc: 0.9521 - val_loss: 0.2851 - val_acc: 0.8846\n",
            "Epoch 29/40\n",
            "15000/15000 [==============================] - 1s 47us/sample - loss: 0.1502 - acc: 0.9544 - val_loss: 0.2870 - val_acc: 0.8828\n",
            "Epoch 30/40\n",
            "15000/15000 [==============================] - 1s 48us/sample - loss: 0.1444 - acc: 0.9561 - val_loss: 0.2858 - val_acc: 0.8854\n",
            "Epoch 31/40\n",
            "15000/15000 [==============================] - 1s 49us/sample - loss: 0.1386 - acc: 0.9590 - val_loss: 0.2867 - val_acc: 0.8862\n",
            "Epoch 32/40\n",
            "15000/15000 [==============================] - 1s 49us/sample - loss: 0.1333 - acc: 0.9607 - val_loss: 0.2879 - val_acc: 0.8866\n",
            "Epoch 33/40\n",
            "15000/15000 [==============================] - 1s 48us/sample - loss: 0.1282 - acc: 0.9624 - val_loss: 0.2899 - val_acc: 0.8852\n",
            "Epoch 34/40\n",
            "15000/15000 [==============================] - 1s 48us/sample - loss: 0.1237 - acc: 0.9644 - val_loss: 0.2912 - val_acc: 0.8860\n",
            "Epoch 35/40\n",
            "15000/15000 [==============================] - 1s 49us/sample - loss: 0.1195 - acc: 0.9657 - val_loss: 0.2940 - val_acc: 0.8856\n",
            "Epoch 36/40\n",
            "15000/15000 [==============================] - 1s 49us/sample - loss: 0.1150 - acc: 0.9683 - val_loss: 0.2954 - val_acc: 0.8855\n",
            "Epoch 37/40\n",
            "15000/15000 [==============================] - 1s 49us/sample - loss: 0.1107 - acc: 0.9696 - val_loss: 0.2975 - val_acc: 0.8842\n",
            "Epoch 38/40\n",
            "15000/15000 [==============================] - 1s 49us/sample - loss: 0.1068 - acc: 0.9711 - val_loss: 0.3007 - val_acc: 0.8839\n",
            "Epoch 39/40\n",
            "15000/15000 [==============================] - 1s 48us/sample - loss: 0.1035 - acc: 0.9717 - val_loss: 0.3034 - val_acc: 0.8832\n",
            "Epoch 40/40\n",
            "15000/15000 [==============================] - 1s 48us/sample - loss: 0.0995 - acc: 0.9734 - val_loss: 0.3055 - val_acc: 0.8830\n"
          ],
          "name": "stdout"
        }
      ]
    },
    {
      "metadata": {
        "id": "kAygU9LYqq7J",
        "colab_type": "code",
        "colab": {
          "base_uri": "https://localhost:8080/",
          "height": 51
        },
        "outputId": "0ea361f4-dcfe-4d12-c94f-46530e309f10"
      },
      "cell_type": "code",
      "source": [
        "results = model.evaluate(test_data, test_labels)\n",
        "\n",
        "print(results)"
      ],
      "execution_count": 46,
      "outputs": [
        {
          "output_type": "stream",
          "text": [
            "25000/25000 [==============================] - 1s 37us/sample - loss: 0.3257 - acc: 0.8728\n",
            "[0.3257180969572067, 0.87284]\n"
          ],
          "name": "stdout"
        }
      ]
    },
    {
      "metadata": {
        "id": "ZsUzidQwrCN_",
        "colab_type": "code",
        "colab": {
          "base_uri": "https://localhost:8080/",
          "height": 34
        },
        "outputId": "738b20ae-c609-46e5-d0ca-168566e82307"
      },
      "cell_type": "code",
      "source": [
        "history_dict = history.history\n",
        "history_dict.keys()"
      ],
      "execution_count": 47,
      "outputs": [
        {
          "output_type": "execute_result",
          "data": {
            "text/plain": [
              "dict_keys(['loss', 'acc', 'val_loss', 'val_acc'])"
            ]
          },
          "metadata": {
            "tags": []
          },
          "execution_count": 47
        }
      ]
    },
    {
      "metadata": {
        "id": "0x0Dve5ErGoE",
        "colab_type": "code",
        "colab": {
          "base_uri": "https://localhost:8080/",
          "height": 376
        },
        "outputId": "e3d10358-a763-4799-d91b-d7a0ae18e1e5"
      },
      "cell_type": "code",
      "source": [
        "import matplotlib.pyplot as plt\n",
        "\n",
        "acc = history_dict['acc']\n",
        "val_acc = history_dict['val_acc']\n",
        "loss = history_dict['loss']\n",
        "val_loss = history_dict['val_loss']\n",
        "\n",
        "epochs = range(1, len(acc) + 1)\n",
        "\n",
        "# \"bo\" is for \"blue dot\"\n",
        "plt.plot(epochs, loss, 'bo', label='Training loss')\n",
        "# b is for \"solid blue line\"\n",
        "plt.plot(epochs, val_loss, 'b', label='Validation loss')\n",
        "plt.title('Training and validation loss')\n",
        "plt.xlabel('Epochs')\n",
        "plt.ylabel('Loss')\n",
        "plt.legend()\n",
        "\n",
        "plt.show()"
      ],
      "execution_count": 48,
      "outputs": [
        {
          "output_type": "display_data",
          "data": {
            "image/png": "[encoded data removed]",
            "text/plain": [
              "<Figure size 576x396 with 1 Axes>"
            ]
          },
          "metadata": {
            "tags": []
          }
        }
      ]
    },
    {
      "metadata": {
        "id": "F24qb0a-rPsN",
        "colab_type": "code",
        "colab": {
          "base_uri": "https://localhost:8080/",
          "height": 376
        },
        "outputId": "de2d25e4-4f8a-4c18-bd3c-0dc0ec3598c6"
      },
      "cell_type": "code",
      "source": [
        "plt.clf()   # clear figure\n",
        "\n",
        "plt.plot(epochs, acc, 'bo', label='Training acc')\n",
        "plt.plot(epochs, val_acc, 'b', label='Validation acc')\n",
        "plt.title('Training and validation accuracy')\n",
        "plt.xlabel('Epochs')\n",
        "plt.ylabel('Accuracy')\n",
        "plt.legend()\n",
        "\n",
        "plt.show()"
      ],
      "execution_count": 49,
      "outputs": [
        {
          "output_type": "display_data",
          "data": {
            "image/png": "[encoded data removed]",
            "text/plain": [
              "<Figure size 576x396 with 1 Axes>"
            ]
          },
          "metadata": {
            "tags": []
          }
        }
      ]
    }
  ]
}